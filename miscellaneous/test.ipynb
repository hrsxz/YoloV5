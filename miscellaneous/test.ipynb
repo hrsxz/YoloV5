{
 "cells": [
  {
   "cell_type": "markdown",
   "metadata": {},
   "source": [
    "Install pytorch"
   ]
  },
  {
   "cell_type": "code",
   "execution_count": 1,
   "metadata": {},
   "outputs": [
    {
     "name": "stdout",
     "output_type": "stream",
     "text": [
      "True\n",
      "1\n",
      "NVIDIA GeForce RTX 3060 Laptop GPU\n"
     ]
    }
   ],
   "source": [
    "import torch\n",
    "print(torch.cuda.is_available())  # 如果输出为 True，表示可以检测到 GPU\n",
    "print(torch.cuda.device_count())  # 查看可用 GPU 的数量\n",
    "print(torch.cuda.get_device_name(0))  # 输出 GPU 的名称"
   ]
  },
  {
   "cell_type": "markdown",
   "metadata": {},
   "source": [
    "### Excute inferencing command"
   ]
  },
  {
   "cell_type": "code",
   "execution_count": 4,
   "metadata": {},
   "outputs": [
    {
     "name": "stderr",
     "output_type": "stream",
     "text": [
      "\u001b[34m\u001b[1mdetect: \u001b[0mweights=['yolov5s.pt'], source=../data/images, data=..\\data\\coco128.yaml, imgsz=[640, 640], conf_thres=0.25, iou_thres=0.45, max_det=1000, device=, view_img=False, save_txt=False, save_format=0, save_csv=False, save_conf=False, save_crop=False, nosave=False, classes=None, agnostic_nms=False, augment=False, visualize=False, update=False, project=..\\runs\\detect, name=exp, exist_ok=False, line_thickness=3, hide_labels=False, hide_conf=False, half=False, dnn=False, vid_stride=1\n",
      "YOLOv5  v7.0-383-g1435a8ee Python-3.11.9 torch-2.0.1+cu117 CUDA:0 (NVIDIA GeForce RTX 3060 Laptop GPU, 6144MiB)\n",
      "\n",
      "Downloading https://github.com/ultralytics/yolov5/releases/download/v7.0/yolov5s.pt to yolov5s.pt...\n",
      "\n",
      "  0%|          | 0.00/14.1M [00:00<?, ?B/s]\n",
      "  2%|▏         | 304k/14.1M [00:00<00:04, 3.02MB/s]\n",
      "  6%|▌         | 880k/14.1M [00:00<00:03, 4.30MB/s]\n",
      " 11%|█         | 1.48M/14.1M [00:00<00:02, 5.25MB/s]\n",
      " 15%|█▌        | 2.14M/14.1M [00:00<00:02, 5.82MB/s]\n",
      " 20%|█▉        | 2.81M/14.1M [00:00<00:01, 6.24MB/s]\n",
      " 26%|██▌       | 3.61M/14.1M [00:00<00:01, 6.81MB/s]\n",
      " 31%|███       | 4.41M/14.1M [00:00<00:01, 7.21MB/s]\n",
      " 36%|███▌      | 5.11M/14.1M [00:00<00:01, 7.23MB/s]\n",
      " 41%|████      | 5.80M/14.1M [00:00<00:01, 7.24MB/s]\n",
      " 47%|████▋     | 6.69M/14.1M [00:01<00:00, 7.80MB/s]\n",
      " 54%|█████▍    | 7.59M/14.1M [00:01<00:00, 8.25MB/s]\n",
      " 60%|██████    | 8.52M/14.1M [00:01<00:00, 8.60MB/s]\n",
      " 67%|██████▋   | 9.50M/14.1M [00:01<00:00, 8.84MB/s]\n",
      " 74%|███████▍  | 10.5M/14.1M [00:01<00:00, 9.19MB/s]\n",
      " 81%|████████▏ | 11.5M/14.1M [00:01<00:00, 9.58MB/s]\n",
      " 89%|████████▉ | 12.6M/14.1M [00:01<00:00, 10.1MB/s]\n",
      " 98%|█████████▊| 13.8M/14.1M [00:01<00:00, 10.5MB/s]\n",
      "100%|██████████| 14.1M/14.1M [00:01<00:00, 8.19MB/s]\n",
      "\n",
      "Fusing layers... \n",
      "YOLOv5s summary: 213 layers, 7225885 parameters, 0 gradients\n",
      "image 1/3 D:\\AI\\Yolo\\yolov5\\data\\images\\Weixin Image_20241109161216.jpg: 640x480 4 persons, 1 truck, 1 sandwich, 1 tv, 66.7ms\n",
      "image 2/3 D:\\AI\\Yolo\\yolov5\\data\\images\\bus.jpg: 640x480 4 persons, 1 bus, 8.7ms\n",
      "image 3/3 D:\\AI\\Yolo\\yolov5\\data\\images\\zidane.jpg: 384x640 2 persons, 2 ties, 61.4ms\n",
      "Speed: 2.6ms pre-process, 45.6ms inference, 19.0ms NMS per image at shape (1, 3, 640, 640)\n",
      "Results saved to \u001b[1m..\\runs\\detect\\exp5\u001b[0m\n"
     ]
    }
   ],
   "source": [
    "!python ../detect.py --weights yolov5s.pt --img 640 --conf 0.25 --source ../data/images"
   ]
  },
  {
   "cell_type": "markdown",
   "metadata": {},
   "source": [
    " 列出文件夹中的图片文件,并选择要显示的图片"
   ]
  },
  {
   "cell_type": "code",
   "execution_count": null,
   "metadata": {},
   "outputs": [
    {
     "name": "stdout",
     "output_type": "stream",
     "text": [
      "[WindowsPath('../runs/detect/exp5/bus.jpg'), WindowsPath('../runs/detect/exp5/Weixin Image_20241109161216.jpg'), WindowsPath('../runs/detect/exp5/zidane.jpg')]\n"
     ]
    },
    {
     "data": {
      "application/vnd.jupyter.widget-view+json": {
       "model_id": "3148f5704cd04910ae2837467e88d2bc",
       "version_major": 2,
       "version_minor": 0
      },
      "text/plain": [
       "interactive(children=(Dropdown(description='file', options=(WindowsPath('../runs/detect/exp5/bus.jpg'), Window…"
      ]
     },
     "metadata": {},
     "output_type": "display_data"
    },
    {
     "data": {
      "text/plain": [
       "<function __main__.show_image(file)>"
      ]
     },
     "execution_count": 7,
     "metadata": {},
     "output_type": "execute_result"
    }
   ],
   "source": [
    "from pathlib import Path\n",
    "from ipywidgets import interact\n",
    "from IPython.display import display, Image\n",
    "\n",
    "# 获取检测结果文件夹的路径\n",
    "result_dir = Path('../runs/detect/exp5')\n",
    "\n",
    "# 列出所有图片文件\n",
    "image_files = list(result_dir.glob('*.jpg'))  # 假设图片文件是 JPG 格式\n",
    "print(image_files)  # 显示所有图片文件的列表\n",
    "\n",
    "# 定义一个函数来显示指定的图片\n",
    "def show_image(file):\n",
    "    display(Image(filename=file))\n",
    "\n",
    "# 使用 interact 创建一个交互式选择菜单\n",
    "interact(show_image, file=image_files)"
   ]
  }
 ],
 "metadata": {
  "kernelspec": {
   "display_name": "venv",
   "language": "python",
   "name": "python3"
  },
  "language_info": {
   "codemirror_mode": {
    "name": "ipython",
    "version": 3
   },
   "file_extension": ".py",
   "mimetype": "text/x-python",
   "name": "python",
   "nbconvert_exporter": "python",
   "pygments_lexer": "ipython3",
   "version": "3.11.9"
  }
 },
 "nbformat": 4,
 "nbformat_minor": 2
}
